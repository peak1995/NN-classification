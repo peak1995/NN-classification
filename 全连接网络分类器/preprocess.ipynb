{
 "cells": [
  {
   "cell_type": "code",
   "execution_count": 40,
   "metadata": {},
   "outputs": [],
   "source": [
    "import numpy as np\n",
    "data_path = '/Users/peak/Desktop/作业5/3/'"
   ]
  },
  {
   "cell_type": "code",
   "execution_count": 41,
   "metadata": {},
   "outputs": [],
   "source": [
    "speaker_names = np.array([])"
   ]
  },
  {
   "cell_type": "code",
   "execution_count": 42,
   "metadata": {},
   "outputs": [],
   "source": [
    "label=np.array([])"
   ]
  },
  {
   "cell_type": "code",
   "execution_count": 43,
   "metadata": {},
   "outputs": [
    {
     "name": "stdout",
     "output_type": "stream",
     "text": [
      "['FCHENLI02' 'FCHENLI03' 'FCHENLI04' ... 'MZHUHY78' 'MZHUHY79' 'MZHUHY80']\n",
      "(7160,)\n"
     ]
    }
   ],
   "source": [
    "for i in range(1,17):\n",
    "    with open(data_path+'ali/ali'+str(i)+'.txt','r') as f:\n",
    "        lines=f.readlines()\n",
    "        for line in lines:\n",
    "            for i in range(len(line)):\n",
    "                if line[i]==' ':\n",
    "                    break\n",
    "            speaker_names=np.append(speaker_names,line[0:i])\n",
    "            label=np.append(label,line[i+1::])\n",
    "print(speaker_names)\n",
    "print(label.shape)"
   ]
  },
  {
   "cell_type": "code",
   "execution_count": 44,
   "metadata": {},
   "outputs": [
    {
     "name": "stdout",
     "output_type": "stream",
     "text": [
      "['FCHENLI02' 'FCHENLI03' 'FCHENLI04' ... 'MZHUHY78' 'MZHUHY79' 'MZHUHY80']\n"
     ]
    }
   ],
   "source": [
    "print(speaker_names)"
   ]
  },
  {
   "cell_type": "code",
   "execution_count": 99,
   "metadata": {},
   "outputs": [
    {
     "name": "stdout",
     "output_type": "stream",
     "text": [
      "(7160,)\n",
      "['FCHENLI02  ' 'FCHENLI03  ' 'FCHENLI04  ' ... 'MZHUHY78  ' 'MZHUHY79  '\n",
      " 'MZHUHY80  ']\n"
     ]
    }
   ],
   "source": [
    "raw_data=np.array([])\n",
    "name=np.array([])\n",
    "ali_str=''\n",
    "for i in range(1,9):\n",
    "    with open(data_path+'feats/raw_mfcc'+str(i)+'.txt','r') as f:\n",
    "        lines=f.readlines()\n",
    "        for line in lines:\n",
    "            if line[-1]=='\\n' and line[-2]=='[':\n",
    "                line =line[0:-2]\n",
    "                name=np.append(name,line)\n",
    "            if line[-1]=='\\n' and line[-2]!='[' and line[-2]!=']':\n",
    "                ali_str=ali_str+line[0:-1]+' '\n",
    "            if line[-1]=='\\n' and line[-2]==']':\n",
    "                ali_str=ali_str+line[0:-2]\n",
    "                raw_data=np.append(raw_data,ali_str)\n",
    "                ali_str=''\n",
    "print(raw_data.shape)\n",
    "print(name)           "
   ]
  },
  {
   "cell_type": "code",
   "execution_count": 100,
   "metadata": {},
   "outputs": [],
   "source": [
    "# a=[]\n",
    "# f=open(data_path+'feats/raw_mfcc1'+'.txt') \n",
    "# lines=f.readline()\n",
    "# while lines:\n",
    "#     a.append(lines)           \n",
    "#     lines=f.readline()\n",
    "# f.close()\n",
    "# print(a[0])\n",
    "# print(a[1])\n",
    "# print(a[178])     "
   ]
  },
  {
   "cell_type": "code",
   "execution_count": 101,
   "metadata": {},
   "outputs": [
    {
     "data": {
      "text/plain": [
       "(7160,)"
      ]
     },
     "execution_count": 101,
     "metadata": {},
     "output_type": "execute_result"
    }
   ],
   "source": []
  },
  {
   "cell_type": "code",
   "execution_count": 111,
   "metadata": {},
   "outputs": [
    {
     "name": "stdout",
     "output_type": "stream",
     "text": [
      "6444\n",
      "(6444,)\n",
      "(6444,)\n",
      "(716,)\n",
      "(716,)\n"
     ]
    }
   ],
   "source": [
    "    permutation = np.random.permutation(raw_data.shape[0])\n",
    "    shuffled_dataset = raw_data[permutation]\n",
    "    shuffled_labels = label[permutation]\n",
    "    cut_index = int(0.9 * raw_data.shape[0])\n",
    "    print(cut_index)\n",
    "    trainX = shuffled_dataset[0:cut_index]\n",
    "    trainY = shuffled_labels[0:cut_index]\n",
    "    testX = shuffled_dataset[cut_index::]\n",
    "    testY = shuffled_labels[cut_index::]\n",
    "    print(trainX.shape)\n",
    "    print(trainY.shape)\n",
    "    print(testX.shape)\n",
    "    print(testY.shape)\n",
    "\n",
    "    with open(data_path+'dataset1/trainX.txt', 'w') as f:\n",
    "        for data_str in trainX:\n",
    "            f.write(data_str)\n",
    "    with open(data_path+'dataset1/testX.txt', 'w') as f:\n",
    "        for data_str in testX:\n",
    "            f.write(data_str)\n",
    "    with open(data_path+'dataset1/trainY.txt', 'w') as f:\n",
    "        for data_str in trainY:\n",
    "            f.write(data_str)\n",
    "    with open(data_path+'dataset1/testY.txt', 'w') as f:\n",
    "        for data_str in testY:\n",
    "            f.write(data_str)"
   ]
  },
  {
   "cell_type": "code",
   "execution_count": 15,
   "metadata": {},
   "outputs": [
    {
     "name": "stdout",
     "output_type": "stream",
     "text": [
      "b= [[ 1  2]\n",
      " [ 3  4]\n",
      " [ 5  6]\n",
      " [ 7  8]\n",
      " [ 9 10]\n",
      " [11 12]]\n",
      "c= [[ 1  2  3  4  5  6]\n",
      " [ 7  8  9 10 11 12]]\n"
     ]
    }
   ],
   "source": [
    "import numpy as np\n",
    " \n",
    "a=np.array([1,2,3,4,5,6,7,8,9,10,11,12])\n",
    "b=np.reshape(a,(-1,2))\n",
    "c=a.reshape(2,-1)\n",
    "print('b=',b)\n",
    "print('c=',c)"
   ]
  },
  {
   "cell_type": "code",
   "execution_count": 4,
   "metadata": {},
   "outputs": [],
   "source": [
    "c=np.array(['1 2 3 4','3 4 5 6','3 4 5 6','3 4 6 8','3 4 6 9'])"
   ]
  },
  {
   "cell_type": "code",
   "execution_count": 7,
   "metadata": {},
   "outputs": [
    {
     "ename": "ValueError",
     "evalue": "cannot reshape array of size 5 into shape (4)",
     "output_type": "error",
     "traceback": [
      "\u001b[0;31m---------------------------------------------------------------------------\u001b[0m",
      "\u001b[0;31mValueError\u001b[0m                                Traceback (most recent call last)",
      "\u001b[0;32m<ipython-input-7-a6c107a8a49a>\u001b[0m in \u001b[0;36m<module>\u001b[0;34m()\u001b[0m\n\u001b[0;32m----> 1\u001b[0;31m \u001b[0mc\u001b[0m\u001b[0;34m.\u001b[0m\u001b[0mreshape\u001b[0m\u001b[0;34m(\u001b[0m\u001b[0;34m-\u001b[0m\u001b[0;36m1\u001b[0m\u001b[0;34m,\u001b[0m\u001b[0;36m4\u001b[0m\u001b[0;34m)\u001b[0m\u001b[0;34m\u001b[0m\u001b[0m\n\u001b[0m",
      "\u001b[0;31mValueError\u001b[0m: cannot reshape array of size 5 into shape (4)"
     ]
    }
   ],
   "source": [
    "c.reshape(-1,4)"
   ]
  },
  {
   "cell_type": "code",
   "execution_count": null,
   "metadata": {},
   "outputs": [],
   "source": []
  }
 ],
 "metadata": {
  "kernelspec": {
   "display_name": "Python 3",
   "language": "python",
   "name": "python3"
  },
  "language_info": {
   "codemirror_mode": {
    "name": "ipython",
    "version": 3
   },
   "file_extension": ".py",
   "mimetype": "text/x-python",
   "name": "python",
   "nbconvert_exporter": "python",
   "pygments_lexer": "ipython3",
   "version": "3.6.5"
  },
  "toc": {
   "base_numbering": 1,
   "nav_menu": {},
   "number_sections": true,
   "sideBar": true,
   "skip_h1_title": false,
   "title_cell": "Table of Contents",
   "title_sidebar": "Contents",
   "toc_cell": false,
   "toc_position": {},
   "toc_section_display": true,
   "toc_window_display": false
  }
 },
 "nbformat": 4,
 "nbformat_minor": 2
}
